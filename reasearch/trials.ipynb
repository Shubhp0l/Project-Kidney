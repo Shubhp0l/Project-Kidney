{
 "cells": [
  {
   "cell_type": "code",
   "execution_count": null,
   "metadata": {},
   "outputs": [
    {
     "name": "stdout",
     "output_type": "stream",
     "text": [
      "val\n"
     ]
    }
   ],
   "source": [
    "#ConfigBox\n",
    "from box import ConfigBox\n",
    "\n",
    "\n",
    "d = {\"key\":\"val\", \"key1\":\"val1\"}\n",
    "\n",
    "# To access the value of dictionary we use `d[\"key\"]` while `d.key` like calling like a class functions to do this we use pythonbox\n",
    "\n",
    "\n",
    "# Convert dictionary to ConfigBox for attribute-style access\n",
    "d2 = ConfigBox(d)\n",
    "\n",
    "print(d2.key) # Like a class attribute"
   ]
  },
  {
   "cell_type": "code",
   "execution_count": 25,
   "metadata": {},
   "outputs": [
    {
     "name": "stdout",
     "output_type": "stream",
     "text": [
      "6\n",
      "222\n"
     ]
    }
   ],
   "source": [
    "import ensure\n",
    "\n",
    "\n",
    "def get_product(x: int, y: int) -> int:\n",
    "    return x * y\n",
    "\n",
    "\n",
    "print(get_product(x=2, y=3))\n",
    "\n",
    "# Even though x and y are annotated as int, passing a string still works\n",
    "print(get_product(x=\"2\", y=3))  # This will return \"222\" instead of an error\n",
    "\n",
    "\n",
    "@ensure.ensure_annotations\n",
    "def get_product2(x:int, y:int) ->int:\n",
    "    return x*y\n",
    "\n",
    "# print(get_product2(x=\"2\", y=3))  # Now this will lead to an error of does not match annotation which is what we want"
   ]
  },
  {
   "cell_type": "code",
   "execution_count": 15,
   "metadata": {},
   "outputs": [
    {
     "data": {
      "text/plain": [
       "box.config_box.ConfigBox"
      ]
     },
     "execution_count": 15,
     "metadata": {},
     "output_type": "execute_result"
    }
   ],
   "source": [
    "type(d2)"
   ]
  }
 ],
 "metadata": {
  "kernelspec": {
   "display_name": "venv",
   "language": "python",
   "name": "python3"
  },
  "language_info": {
   "codemirror_mode": {
    "name": "ipython",
    "version": 3
   },
   "file_extension": ".py",
   "mimetype": "text/x-python",
   "name": "python",
   "nbconvert_exporter": "python",
   "pygments_lexer": "ipython3",
   "version": "3.11.9"
  }
 },
 "nbformat": 4,
 "nbformat_minor": 2
}

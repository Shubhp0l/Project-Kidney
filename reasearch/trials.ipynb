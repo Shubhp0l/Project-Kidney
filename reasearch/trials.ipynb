{
 "cells": [
  {
   "cell_type": "code",
   "execution_count": null,
   "metadata": {},
   "outputs": [
    {
     "name": "stdout",
     "output_type": "stream",
     "text": [
      "val\n"
     ]
    }
   ],
   "source": [
    "#ConfigBox\n",
    "from box import ConfigBox\n",
    "\n",
    "\n",
    "d = {\"key\":\"val\", \"key1\":\"val1\"}\n",
    "\n",
    "# To access the value of dictionary we use `d[\"key\"]` while `d.key` like calling like a class functions to do this we use pythonbox\n",
    "\n",
    "\n",
    "# Convert dictionary to ConfigBox for attribute-style access\n",
    "d2 = ConfigBox(d)\n",
    "\n",
    "print(d2.key) # Like a class attribute"
   ]
  },
  {
   "cell_type": "code",
   "execution_count": null,
   "metadata": {},
   "outputs": [
    {
     "name": "stdout",
     "output_type": "stream",
     "text": [
      "6\n",
      "222\n"
     ]
    },
    {
     "ename": "EnsureError",
     "evalue": "Argument x of type <class 'str'> to <function get_product2 at 0x00000251D7374720> does not match annotation type <class 'int'>",
     "output_type": "error",
     "traceback": [
      "\u001b[31m---------------------------------------------------------------------------\u001b[39m",
      "\u001b[31mEnsureError\u001b[39m                               Traceback (most recent call last)",
      "\u001b[36mCell\u001b[39m\u001b[36m \u001b[39m\u001b[32mIn[24]\u001b[39m\u001b[32m, line 18\u001b[39m\n\u001b[32m     14\u001b[39m \u001b[38;5;129m@ensure\u001b[39m.ensure_annotations\n\u001b[32m     15\u001b[39m \u001b[38;5;28;01mdef\u001b[39;00m\u001b[38;5;250m \u001b[39m\u001b[34mget_product2\u001b[39m(x:\u001b[38;5;28mint\u001b[39m, y:\u001b[38;5;28mint\u001b[39m) ->\u001b[38;5;28mint\u001b[39m:\n\u001b[32m     16\u001b[39m     \u001b[38;5;28;01mreturn\u001b[39;00m x*y\n\u001b[32m---> \u001b[39m\u001b[32m18\u001b[39m \u001b[38;5;28mprint\u001b[39m(\u001b[43mget_product2\u001b[49m\u001b[43m(\u001b[49m\u001b[43mx\u001b[49m\u001b[43m=\u001b[49m\u001b[33;43m\"\u001b[39;49m\u001b[33;43m2\u001b[39;49m\u001b[33;43m\"\u001b[39;49m\u001b[43m,\u001b[49m\u001b[43m \u001b[49m\u001b[43my\u001b[49m\u001b[43m=\u001b[49m\u001b[32;43m3\u001b[39;49m\u001b[43m)\u001b[49m)  \u001b[38;5;66;03m# Now this will lead to an error of does not match annotation which is what we want\u001b[39;00m\n",
      "\u001b[36mFile \u001b[39m\u001b[32ma:\\Project-Kidney\\venv\\Lib\\site-packages\\ensure\\main.py:845\u001b[39m, in \u001b[36mWrappedFunctionReturn.__call__\u001b[39m\u001b[34m(self, *args, **kwargs)\u001b[39m\n\u001b[32m    840\u001b[39m     \u001b[38;5;28;01mif\u001b[39;00m \u001b[38;5;129;01mnot\u001b[39;00m \u001b[38;5;28misinstance\u001b[39m(value, templ):\n\u001b[32m    841\u001b[39m         msg = (\n\u001b[32m    842\u001b[39m             \u001b[33m\"\u001b[39m\u001b[33mArgument \u001b[39m\u001b[38;5;132;01m{arg}\u001b[39;00m\u001b[33m of type \u001b[39m\u001b[38;5;132;01m{valt}\u001b[39;00m\u001b[33m to \u001b[39m\u001b[38;5;132;01m{f}\u001b[39;00m\u001b[33m \u001b[39m\u001b[33m\"\u001b[39m\n\u001b[32m    843\u001b[39m             \u001b[33m\"\u001b[39m\u001b[33mdoes not match annotation type \u001b[39m\u001b[38;5;132;01m{t}\u001b[39;00m\u001b[33m\"\u001b[39m\n\u001b[32m    844\u001b[39m         )\n\u001b[32m--> \u001b[39m\u001b[32m845\u001b[39m         \u001b[38;5;28;01mraise\u001b[39;00m EnsureError(msg.format(\n\u001b[32m    846\u001b[39m             arg=arg, f=\u001b[38;5;28mself\u001b[39m.f, t=templ, valt=\u001b[38;5;28mtype\u001b[39m(value)\n\u001b[32m    847\u001b[39m         ))\n\u001b[32m    849\u001b[39m return_val = \u001b[38;5;28mself\u001b[39m.f(*args, **kwargs)\n\u001b[32m    850\u001b[39m \u001b[38;5;28;01mif\u001b[39;00m \u001b[38;5;129;01mnot\u001b[39;00m \u001b[38;5;28misinstance\u001b[39m(return_val, \u001b[38;5;28mself\u001b[39m.return_templ):\n",
      "\u001b[31mEnsureError\u001b[39m: Argument x of type <class 'str'> to <function get_product2 at 0x00000251D7374720> does not match annotation type <class 'int'>"
     ]
    }
   ],
   "source": [
    "import ensure\n",
    "\n",
    "\n",
    "def get_product(x: int, y: int) -> int:\n",
    "    return x * y\n",
    "\n",
    "\n",
    "print(get_product(x=2, y=3))\n",
    "\n",
    "# Even though x and y are annotated as int, passing a string still works\n",
    "print(get_product(x=\"2\", y=3))  # This will return \"222\" instead of an error\n",
    "\n",
    "\n",
    "@ensure.ensure_annotations\n",
    "def get_product2(x:int, y:int) ->int:\n",
    "    return x*y\n",
    "\n",
    "# print(get_product2(x=\"2\", y=3))  # Now this will lead to an error of does not match annotation which is what we want"
   ]
  },
  {
   "cell_type": "code",
   "execution_count": 15,
   "metadata": {},
   "outputs": [
    {
     "data": {
      "text/plain": [
       "box.config_box.ConfigBox"
      ]
     },
     "execution_count": 15,
     "metadata": {},
     "output_type": "execute_result"
    }
   ],
   "source": [
    "type(d2)"
   ]
  }
 ],
 "metadata": {
  "kernelspec": {
   "display_name": "venv",
   "language": "python",
   "name": "python3"
  },
  "language_info": {
   "codemirror_mode": {
    "name": "ipython",
    "version": 3
   },
   "file_extension": ".py",
   "mimetype": "text/x-python",
   "name": "python",
   "nbconvert_exporter": "python",
   "pygments_lexer": "ipython3",
   "version": "3.11.9"
  }
 },
 "nbformat": 4,
 "nbformat_minor": 2
}
